{
 "cells": [
  {
   "attachments": {},
   "cell_type": "markdown",
   "metadata": {},
   "source": [
    "### Goal: Mimic the workflow: ETL → analytics → visualisation → optional API."
   ]
  },
  {
   "cell_type": "code",
   "execution_count": 104,
   "metadata": {},
   "outputs": [],
   "source": [
    "import pandas as pd\n",
    "import numpy as np"
   ]
  },
  {
   "attachments": {},
   "cell_type": "markdown",
   "metadata": {},
   "source": [
    "## Clean Prep Manipulate and get the Dtaset Ready\n",
    "\n",
    "* Load CSV\n",
    "\n",
    "* Standardise species names\n",
    "\n",
    "* Fill missing values (or flag them)\n",
    "\n",
    "* Convert visit_date to datetime\n",
    "\n",
    "* Calculate extra useful columns like year, month, age_group\n",
    "\n",
    "* add other oclumns, datapoints etc, to help the dataset become more realistic and air the analysis\n",
    "\n",
    "* Save cleaned version back to CSV and/or load into SQLite using df.to_sql().\n"
   ]
  },
  {
   "attachments": {},
   "cell_type": "markdown",
   "metadata": {},
   "source": [
    "##### Read and explore"
   ]
  },
  {
   "cell_type": "code",
   "execution_count": 105,
   "metadata": {},
   "outputs": [
    {
     "name": "stdout",
     "output_type": "stream",
     "text": [
      "(700, 8)\n",
      "First 10 rows:\n"
     ]
    },
    {
     "data": {
      "text/html": [
       "<div>\n",
       "<style scoped>\n",
       "    .dataframe tbody tr th:only-of-type {\n",
       "        vertical-align: middle;\n",
       "    }\n",
       "\n",
       "    .dataframe tbody tr th {\n",
       "        vertical-align: top;\n",
       "    }\n",
       "\n",
       "    .dataframe thead th {\n",
       "        text-align: right;\n",
       "    }\n",
       "</style>\n",
       "<table border=\"1\" class=\"dataframe\">\n",
       "  <thead>\n",
       "    <tr style=\"text-align: right;\">\n",
       "      <th></th>\n",
       "      <th>pet_id</th>\n",
       "      <th>species</th>\n",
       "      <th>age</th>\n",
       "      <th>weight_kg</th>\n",
       "      <th>condition</th>\n",
       "      <th>treatment</th>\n",
       "      <th>visit_date</th>\n",
       "      <th>cost_gbp</th>\n",
       "    </tr>\n",
       "  </thead>\n",
       "  <tbody>\n",
       "    <tr>\n",
       "      <th>0</th>\n",
       "      <td>P0001</td>\n",
       "      <td>Dog</td>\n",
       "      <td>6.0</td>\n",
       "      <td>10.6</td>\n",
       "      <td>Arthritis</td>\n",
       "      <td>Dental Cleaning</td>\n",
       "      <td>2023-04-08</td>\n",
       "      <td>277.31</td>\n",
       "    </tr>\n",
       "    <tr>\n",
       "      <th>1</th>\n",
       "      <td>P0002</td>\n",
       "      <td>Cat</td>\n",
       "      <td>NaN</td>\n",
       "      <td>2.1</td>\n",
       "      <td>NaN</td>\n",
       "      <td>Surgery</td>\n",
       "      <td>2023-11-24</td>\n",
       "      <td>164.88</td>\n",
       "    </tr>\n",
       "    <tr>\n",
       "      <th>2</th>\n",
       "      <td>P0003</td>\n",
       "      <td>Dog</td>\n",
       "      <td>NaN</td>\n",
       "      <td>27.6</td>\n",
       "      <td>Gastroenteritis</td>\n",
       "      <td>Diet Consultation</td>\n",
       "      <td>2023-01-01</td>\n",
       "      <td>NaN</td>\n",
       "    </tr>\n",
       "    <tr>\n",
       "      <th>3</th>\n",
       "      <td>P0004</td>\n",
       "      <td>Dog</td>\n",
       "      <td>1.0</td>\n",
       "      <td>16.9</td>\n",
       "      <td>Allergy</td>\n",
       "      <td>Vaccination</td>\n",
       "      <td>2023-09-20</td>\n",
       "      <td>NaN</td>\n",
       "    </tr>\n",
       "    <tr>\n",
       "      <th>4</th>\n",
       "      <td>P0005</td>\n",
       "      <td>Dog</td>\n",
       "      <td>NaN</td>\n",
       "      <td>26.7</td>\n",
       "      <td>Tumor</td>\n",
       "      <td>Vaccination</td>\n",
       "      <td>2023-12-21</td>\n",
       "      <td>NaN</td>\n",
       "    </tr>\n",
       "    <tr>\n",
       "      <th>5</th>\n",
       "      <td>P0006</td>\n",
       "      <td>Bird</td>\n",
       "      <td>16.0</td>\n",
       "      <td>1.1</td>\n",
       "      <td>Allergy</td>\n",
       "      <td>Physiotherapy</td>\n",
       "      <td>2023-10-09</td>\n",
       "      <td>120.23</td>\n",
       "    </tr>\n",
       "    <tr>\n",
       "      <th>6</th>\n",
       "      <td>P0007</td>\n",
       "      <td>Dog</td>\n",
       "      <td>14.0</td>\n",
       "      <td>14.1</td>\n",
       "      <td>Dental Disease</td>\n",
       "      <td>Diet Consultation</td>\n",
       "      <td>2023-06-09</td>\n",
       "      <td>419.85</td>\n",
       "    </tr>\n",
       "    <tr>\n",
       "      <th>7</th>\n",
       "      <td>P0008</td>\n",
       "      <td>Cat</td>\n",
       "      <td>NaN</td>\n",
       "      <td>2.2</td>\n",
       "      <td>Allergy</td>\n",
       "      <td>Therapy</td>\n",
       "      <td>2023-02-03</td>\n",
       "      <td>196.33</td>\n",
       "    </tr>\n",
       "    <tr>\n",
       "      <th>8</th>\n",
       "      <td>P0009</td>\n",
       "      <td>Bird</td>\n",
       "      <td>6.0</td>\n",
       "      <td>NaN</td>\n",
       "      <td>Diabetes</td>\n",
       "      <td>Therapy</td>\n",
       "      <td>2023-06-20</td>\n",
       "      <td>253.33</td>\n",
       "    </tr>\n",
       "    <tr>\n",
       "      <th>9</th>\n",
       "      <td>P0010</td>\n",
       "      <td>Rabbit</td>\n",
       "      <td>3.0</td>\n",
       "      <td>4.8</td>\n",
       "      <td>Arthritis</td>\n",
       "      <td>Physiotherapy</td>\n",
       "      <td>2023-09-04</td>\n",
       "      <td>299.70</td>\n",
       "    </tr>\n",
       "  </tbody>\n",
       "</table>\n",
       "</div>"
      ],
      "text/plain": [
       "  pet_id species   age  weight_kg        condition          treatment  \\\n",
       "0  P0001     Dog   6.0       10.6        Arthritis    Dental Cleaning   \n",
       "1  P0002     Cat   NaN        2.1              NaN            Surgery   \n",
       "2  P0003     Dog   NaN       27.6  Gastroenteritis  Diet Consultation   \n",
       "3  P0004     Dog   1.0       16.9          Allergy        Vaccination   \n",
       "4  P0005     Dog   NaN       26.7            Tumor        Vaccination   \n",
       "5  P0006    Bird  16.0        1.1          Allergy      Physiotherapy   \n",
       "6  P0007     Dog  14.0       14.1   Dental Disease  Diet Consultation   \n",
       "7  P0008     Cat   NaN        2.2          Allergy            Therapy   \n",
       "8  P0009    Bird   6.0        NaN         Diabetes            Therapy   \n",
       "9  P0010  Rabbit   3.0        4.8        Arthritis      Physiotherapy   \n",
       "\n",
       "   visit_date  cost_gbp  \n",
       "0  2023-04-08    277.31  \n",
       "1  2023-11-24    164.88  \n",
       "2  2023-01-01       NaN  \n",
       "3  2023-09-20       NaN  \n",
       "4  2023-12-21       NaN  \n",
       "5  2023-10-09    120.23  \n",
       "6  2023-06-09    419.85  \n",
       "7  2023-02-03    196.33  \n",
       "8  2023-06-20    253.33  \n",
       "9  2023-09-04    299.70  "
      ]
     },
     "execution_count": 105,
     "metadata": {},
     "output_type": "execute_result"
    }
   ],
   "source": [
    "csv_path = \"../data/pet_proactive_mock_data.csv\"\n",
    "df = pd.read_csv(csv_path)\n",
    "\n",
    "print(df.shape)\n",
    "\n",
    "print(\"First 10 rows:\")\n",
    "df.head(10)"
   ]
  },
  {
   "cell_type": "code",
   "execution_count": 106,
   "metadata": {},
   "outputs": [
    {
     "name": "stdout",
     "output_type": "stream",
     "text": [
      "\n",
      "Data types and missing values:\n",
      "<class 'pandas.core.frame.DataFrame'>\n",
      "RangeIndex: 700 entries, 0 to 699\n",
      "Data columns (total 8 columns):\n",
      " #   Column      Non-Null Count  Dtype  \n",
      "---  ------      --------------  -----  \n",
      " 0   pet_id      700 non-null    object \n",
      " 1   species     700 non-null    object \n",
      " 2   age         600 non-null    float64\n",
      " 3   weight_kg   554 non-null    float64\n",
      " 4   condition   580 non-null    object \n",
      " 5   treatment   623 non-null    object \n",
      " 6   visit_date  700 non-null    object \n",
      " 7   cost_gbp    661 non-null    float64\n",
      "dtypes: float64(3), object(5)\n",
      "memory usage: 43.9+ KB\n",
      "None\n"
     ]
    }
   ],
   "source": [
    "print(\"\\nData types and missing values:\")\n",
    "print(df.info())\n"
   ]
  },
  {
   "cell_type": "code",
   "execution_count": 107,
   "metadata": {},
   "outputs": [
    {
     "name": "stdout",
     "output_type": "stream",
     "text": [
      "\n",
      "Basic stats:\n",
      "              age   weight_kg    cost_gbp\n",
      "count  600.000000  554.000000  661.000000\n",
      "mean     9.486667    8.757220  218.244766\n",
      "std      5.931424    7.927665  130.832967\n",
      "min      0.000000    0.500000    0.140000\n",
      "25%      4.000000    1.700000  113.940000\n",
      "50%     10.000000    6.250000  213.440000\n",
      "75%     15.000000   14.300000  307.640000\n",
      "max     19.000000   34.900000  589.660000\n"
     ]
    }
   ],
   "source": [
    "print(\"\\nBasic stats:\")\n",
    "print(df.describe())"
   ]
  },
  {
   "cell_type": "code",
   "execution_count": 108,
   "metadata": {},
   "outputs": [
    {
     "name": "stdout",
     "output_type": "stream",
     "text": [
      "\n",
      "Unique species: ['Dog' 'Cat' 'Bird' 'Rabbit']\n",
      "Unique conditions: ['Arthritis' nan 'Gastroenteritis' 'Allergy' 'Tumor' 'Dental Disease'\n",
      " 'Diabetes' 'Obesity' 'Skin Infection' 'Ear Infection' 'Hip Dysplasia']\n",
      "Unique treatments: ['Dental Cleaning' 'Surgery' 'Diet Consultation' 'Vaccination'\n",
      " 'Physiotherapy' 'Therapy' nan 'Check-up' 'Medication']\n"
     ]
    }
   ],
   "source": [
    "#check unique values for categorical columns\n",
    "print(\"\\nUnique species:\", df['species'].unique())\n",
    "print(\"Unique conditions:\", df['condition'].unique())\n",
    "print(\"Unique treatments:\", df['treatment'].unique())"
   ]
  },
  {
   "cell_type": "code",
   "execution_count": 109,
   "metadata": {},
   "outputs": [
    {
     "name": "stdout",
     "output_type": "stream",
     "text": [
      "Unique Id-s: (700,)\n"
     ]
    }
   ],
   "source": [
    "print(\"Unique Id-s:\", df['pet_id'].unique().shape)"
   ]
  },
  {
   "attachments": {},
   "cell_type": "markdown",
   "metadata": {},
   "source": [
    "#### start cleaning and prepping"
   ]
  },
  {
   "cell_type": "code",
   "execution_count": 110,
   "metadata": {},
   "outputs": [],
   "source": [
    "# Standardise categorical data\n",
    "# species column: make everything lowercase then capitalise:\n",
    "\n",
    "df['species'] = df['species'].str.strip().str.lower().str.capitalize()\n",
    "df['condition'] = df['condition'].str.strip().str.lower().str.capitalize()\n",
    "df['treatment'] = df['treatment'].str.strip().str.lower().str.capitalize()\n"
   ]
  },
  {
   "cell_type": "code",
   "execution_count": 111,
   "metadata": {},
   "outputs": [],
   "source": [
    "# Handle missing numeric data\n",
    "# For age and weight_kg:\n",
    "# Decide whether to fill with median, mean, or flag as missing.\n",
    "\n",
    "df['age'] = df['age'].fillna(df['age'].mean())\n",
    "df['weight_kg'] = df['weight_kg'].fillna(df['weight_kg'].mean())\n",
    "\n",
    "\n",
    "# Optional: add a boolean column like age_missing if you want to track originally missing values."
   ]
  },
  {
   "cell_type": "code",
   "execution_count": 112,
   "metadata": {},
   "outputs": [],
   "source": [
    "# Handle missing categorical data\n",
    "df['condition'] = df['condition'].fillna(\"Unknown\")\n",
    "df['treatment'] = df['treatment'].fillna(\"Unknown\")"
   ]
  },
  {
   "cell_type": "code",
   "execution_count": 113,
   "metadata": {},
   "outputs": [],
   "source": [
    "# fix numerical values - cannot be negative\n",
    "# dfl.oc[...,...] = np.nan fixes the new values in place, doesn't rewrite the df\n",
    "df.loc[df['weight_kg'] <= 0, 'weight_kg'] = np.nan\n",
    "df['weight_kg'] = df['weight_kg'].fillna(df['weight_kg'].mean())\n"
   ]
  },
  {
   "cell_type": "code",
   "execution_count": 114,
   "metadata": {},
   "outputs": [],
   "source": [
    "# cost cannot be negative, fill missing values with na\n",
    "df.loc[df['cost_gbp'] < 0, 'cost_gbp'] = np.nan\n",
    "df['cost_gbp'] = df['cost_gbp'].fillna(df['cost_gbp'].mean())"
   ]
  },
  {
   "cell_type": "code",
   "execution_count": 115,
   "metadata": {},
   "outputs": [],
   "source": [
    "df['visit_date'] = pd.to_datetime(df['visit_date'], errors='coerce')"
   ]
  },
  {
   "cell_type": "code",
   "execution_count": 147,
   "metadata": {},
   "outputs": [
    {
     "name": "stdout",
     "output_type": "stream",
     "text": [
      "[2023]\n"
     ]
    }
   ],
   "source": [
    "# Ensure 'visit_date' is in datetime format\n",
    "df['visit_date'] = pd.to_datetime(df['visit_date'], errors='coerce')\n",
    "\n",
    "# Extract unique years from the 'visit_date' column\n",
    "unique_years = df['visit_date'].dt.year.unique()\n",
    "\n",
    "# Convert to a list (optional)\n",
    "unique_years_list = unique_years.tolist()\n",
    "\n",
    "print(unique_years_list)\n"
   ]
  },
  {
   "cell_type": "code",
   "execution_count": 116,
   "metadata": {},
   "outputs": [],
   "source": [
    "# extracting more cols for analysis\n",
    "df['year'] = df['visit_date'].dt.year\n",
    "df['month'] = df['visit_date'].dt.month"
   ]
  },
  {
   "cell_type": "code",
   "execution_count": 117,
   "metadata": {},
   "outputs": [],
   "source": [
    "# pd.cut segments continuous numeric data into discrete “bins” or intervals.\n",
    "# for easier visuals\n",
    "\n",
    "# bins are the edges of the intervals. \n",
    "\n",
    "bins = [0, 2, 5, 10, 15, 20, np.inf]  # np.inf = all ages above 20\n",
    "labels = ['0-2','3-5','6-10','11-15','16-20','20+']\n",
    "df['age_group'] = pd.cut(df['age'], bins=bins, labels=labels)"
   ]
  },
  {
   "cell_type": "code",
   "execution_count": 118,
   "metadata": {},
   "outputs": [],
   "source": [
    "# grup by the avg cost per condition:\n",
    "# Make sure cost_gbp is numeric\n",
    "df['cost_gbp'] = pd.to_numeric(df['cost_gbp'], errors='coerce')\n",
    "\n",
    "# Calculate average cost per condition\n",
    "avg_cost_per_condition = df.groupby('condition')['cost_gbp'].mean().sort_values(ascending=False)"
   ]
  },
  {
   "cell_type": "code",
   "execution_count": 119,
   "metadata": {},
   "outputs": [
    {
     "data": {
      "text/html": [
       "<div>\n",
       "<style scoped>\n",
       "    .dataframe tbody tr th:only-of-type {\n",
       "        vertical-align: middle;\n",
       "    }\n",
       "\n",
       "    .dataframe tbody tr th {\n",
       "        vertical-align: top;\n",
       "    }\n",
       "\n",
       "    .dataframe thead th {\n",
       "        text-align: right;\n",
       "    }\n",
       "</style>\n",
       "<table border=\"1\" class=\"dataframe\">\n",
       "  <thead>\n",
       "    <tr style=\"text-align: right;\">\n",
       "      <th></th>\n",
       "      <th>pet_id</th>\n",
       "      <th>species</th>\n",
       "      <th>age</th>\n",
       "      <th>weight_kg</th>\n",
       "      <th>condition</th>\n",
       "      <th>treatment</th>\n",
       "      <th>visit_date</th>\n",
       "      <th>cost_gbp</th>\n",
       "      <th>year</th>\n",
       "      <th>month</th>\n",
       "      <th>age_group</th>\n",
       "    </tr>\n",
       "  </thead>\n",
       "  <tbody>\n",
       "    <tr>\n",
       "      <th>0</th>\n",
       "      <td>P0001</td>\n",
       "      <td>Dog</td>\n",
       "      <td>6.000000</td>\n",
       "      <td>10.6</td>\n",
       "      <td>Arthritis</td>\n",
       "      <td>Dental cleaning</td>\n",
       "      <td>2023-04-08</td>\n",
       "      <td>277.310000</td>\n",
       "      <td>2023</td>\n",
       "      <td>4</td>\n",
       "      <td>6-10</td>\n",
       "    </tr>\n",
       "    <tr>\n",
       "      <th>1</th>\n",
       "      <td>P0002</td>\n",
       "      <td>Cat</td>\n",
       "      <td>9.486667</td>\n",
       "      <td>2.1</td>\n",
       "      <td>Unknown</td>\n",
       "      <td>Surgery</td>\n",
       "      <td>2023-11-24</td>\n",
       "      <td>164.880000</td>\n",
       "      <td>2023</td>\n",
       "      <td>11</td>\n",
       "      <td>6-10</td>\n",
       "    </tr>\n",
       "    <tr>\n",
       "      <th>2</th>\n",
       "      <td>P0003</td>\n",
       "      <td>Dog</td>\n",
       "      <td>9.486667</td>\n",
       "      <td>27.6</td>\n",
       "      <td>Gastroenteritis</td>\n",
       "      <td>Diet consultation</td>\n",
       "      <td>2023-01-01</td>\n",
       "      <td>218.244766</td>\n",
       "      <td>2023</td>\n",
       "      <td>1</td>\n",
       "      <td>6-10</td>\n",
       "    </tr>\n",
       "    <tr>\n",
       "      <th>3</th>\n",
       "      <td>P0004</td>\n",
       "      <td>Dog</td>\n",
       "      <td>1.000000</td>\n",
       "      <td>16.9</td>\n",
       "      <td>Allergy</td>\n",
       "      <td>Vaccination</td>\n",
       "      <td>2023-09-20</td>\n",
       "      <td>218.244766</td>\n",
       "      <td>2023</td>\n",
       "      <td>9</td>\n",
       "      <td>0-2</td>\n",
       "    </tr>\n",
       "    <tr>\n",
       "      <th>4</th>\n",
       "      <td>P0005</td>\n",
       "      <td>Dog</td>\n",
       "      <td>9.486667</td>\n",
       "      <td>26.7</td>\n",
       "      <td>Tumor</td>\n",
       "      <td>Vaccination</td>\n",
       "      <td>2023-12-21</td>\n",
       "      <td>218.244766</td>\n",
       "      <td>2023</td>\n",
       "      <td>12</td>\n",
       "      <td>6-10</td>\n",
       "    </tr>\n",
       "  </tbody>\n",
       "</table>\n",
       "</div>"
      ],
      "text/plain": [
       "  pet_id species       age  weight_kg        condition          treatment  \\\n",
       "0  P0001     Dog  6.000000       10.6        Arthritis    Dental cleaning   \n",
       "1  P0002     Cat  9.486667        2.1          Unknown            Surgery   \n",
       "2  P0003     Dog  9.486667       27.6  Gastroenteritis  Diet consultation   \n",
       "3  P0004     Dog  1.000000       16.9          Allergy        Vaccination   \n",
       "4  P0005     Dog  9.486667       26.7            Tumor        Vaccination   \n",
       "\n",
       "  visit_date    cost_gbp  year  month age_group  \n",
       "0 2023-04-08  277.310000  2023      4      6-10  \n",
       "1 2023-11-24  164.880000  2023     11      6-10  \n",
       "2 2023-01-01  218.244766  2023      1      6-10  \n",
       "3 2023-09-20  218.244766  2023      9       0-2  \n",
       "4 2023-12-21  218.244766  2023     12      6-10  "
      ]
     },
     "execution_count": 119,
     "metadata": {},
     "output_type": "execute_result"
    }
   ],
   "source": [
    "df.head()"
   ]
  },
  {
   "attachments": {},
   "cell_type": "markdown",
   "metadata": {},
   "source": [
    "#### manipulate the dataset a bit, since it is mock dataset, I can add more data or twist it in a way to try and mimic real world data at least remotely."
   ]
  },
  {
   "attachments": {},
   "cell_type": "markdown",
   "metadata": {},
   "source": [
    "Just noticed my mockdb does not have any pets with repeated visits, so will change it now-"
   ]
  },
  {
   "cell_type": "code",
   "execution_count": 123,
   "metadata": {},
   "outputs": [],
   "source": [
    "dogs = df[df['species'] == 'Dog']\n",
    "cats = df[df['species'] == 'Cat']\n",
    "\n",
    "# randomly choose pets\n",
    "np.random.seed(44)\n",
    "dog_ids_to_repeat = np.random.choice(dogs['pet_id'], size=27, replace=False)\n",
    "cat_ids_to_repeat = np.random.choice(cats['pet_id'], size=32, replace=False)\n",
    "\n",
    "\n",
    "def duplicate_visits(df, pet_ids, num_duplicates=1):\n",
    "    new_rows = []\n",
    "    for pet_id in pet_ids:\n",
    "        original_row = df[df['pet_id'] == pet_id].iloc[0]\n",
    "        for _ in range(num_duplicates):\n",
    "            new_row = original_row.copy()\n",
    "            # Randomize visit_date within 2023 i.e.\n",
    "            new_row['visit_date'] = pd.to_datetime('2023-01-01') + pd.to_timedelta(\n",
    "                np.random.randint(0, 365), unit='days'\n",
    "            )\n",
    "            new_row['cost_gbp'] = max(5, new_row['cost_gbp'] * np.random.uniform(0.8, 1.2))\n",
    "            new_rows.append(new_row)\n",
    "    return pd.DataFrame(new_rows)\n",
    "\n",
    "# call the function on dogs and cats lists\n",
    "dog_duplicates = duplicate_visits(dogs, dog_ids_to_repeat, num_duplicates=7) \n",
    "cat_duplicates = duplicate_visits(cats, cat_ids_to_repeat, num_duplicates=4)\n",
    "\n",
    "# Combine with original df\n",
    "df_new = pd.concat([df, dog_duplicates, cat_duplicates], ignore_index=True)\n",
    "\n",
    "# Sort by pet_id for clarity\n",
    "df_new = df_new.sort_values(by='pet_id').reset_index(drop=True)\n"
   ]
  },
  {
   "cell_type": "code",
   "execution_count": 124,
   "metadata": {},
   "outputs": [
    {
     "data": {
      "text/plain": [
       "(1017, 11)"
      ]
     },
     "execution_count": 124,
     "metadata": {},
     "output_type": "execute_result"
    }
   ],
   "source": [
    "df_new.shape"
   ]
  },
  {
   "cell_type": "code",
   "execution_count": 125,
   "metadata": {},
   "outputs": [
    {
     "name": "stdout",
     "output_type": "stream",
     "text": [
      "Unique Id-s: (700,)\n",
      "Overall Id-s: (1017,)\n"
     ]
    }
   ],
   "source": [
    "print(\"Unique Id-s:\", df_new['pet_id'].unique().shape)\n",
    "print(\"Overall Id-s:\", df_new['pet_id'].shape)"
   ]
  },
  {
   "attachments": {},
   "cell_type": "markdown",
   "metadata": {},
   "source": [
    "Adding a new column called insurance to help the analysis:"
   ]
  },
  {
   "cell_type": "code",
   "execution_count": 131,
   "metadata": {},
   "outputs": [],
   "source": [
    "def assign_insurance(row):\n",
    "    species = row['species'].lower()\n",
    "    age = row['age']\n",
    "\n",
    "    if species == \"dog\":\n",
    "        base_prob = 0.65\n",
    "    elif species == \"cat\":\n",
    "        base_prob = 0.35\n",
    "    else:  # exotic, rabbit, etc\n",
    "        base_prob = 0.10\n",
    "\n",
    "    # Adjust for age (younger pets more likely insured, older less)\n",
    "    if age <= 3:\n",
    "        prob = base_prob + 0.10  # bump up for young\n",
    "    elif age >= 10:\n",
    "        prob = base_prob - 0.15  # drop for old\n",
    "    else:\n",
    "        prob = base_prob\n",
    "\n",
    "    # Keep probs within [0.05, 0.9]\n",
    "    prob = min(max(prob, 0.05), 0.9)\n",
    "\n",
    "    return np.random.rand() < prob\n",
    "\n",
    "# Add insurance column\n",
    "df_new['insured'] = df_new.apply(assign_insurance, axis=1)\n"
   ]
  },
  {
   "cell_type": "code",
   "execution_count": 132,
   "metadata": {},
   "outputs": [
    {
     "data": {
      "text/plain": [
       "0        True\n",
       "1       False\n",
       "2        True\n",
       "3        True\n",
       "4        True\n",
       "        ...  \n",
       "1012    False\n",
       "1013    False\n",
       "1014    False\n",
       "1015    False\n",
       "1016    False\n",
       "Name: insured, Length: 1017, dtype: bool"
      ]
     },
     "execution_count": 132,
     "metadata": {},
     "output_type": "execute_result"
    }
   ],
   "source": [
    "df_new['insured']"
   ]
  },
  {
   "cell_type": "code",
   "execution_count": 133,
   "metadata": {},
   "outputs": [],
   "source": [
    "plans = {\n",
    "    \"Accident-only\": (0.5, 0.7),\n",
    "    \"Time-limited\": (0.6, 0.8),\n",
    "    \"Maximum benefit\": (0.7, 0.85),\n",
    "    \"Lifetime\": (0.8, 0.9),\n",
    "}\n",
    "\n",
    "# assign plans to insured pets\n",
    "df_new[\"insurance_plan\"] = np.where(\n",
    "    df_new[\"insured\"],\n",
    "    np.random.choice(list(plans.keys()), size=len(df_new), p=[0.2, 0.3, 0.3, 0.2]),\n",
    "    \"None\"\n",
    ")\n",
    "\n",
    "# coverage rate based on plan\n",
    "df_new[\"coverage_rate\"] = df_new.apply(\n",
    "    lambda row: np.random.uniform(*plans[row[\"insurance_plan\"]])\n",
    "    if row[\"insurance_plan\"] != \"None\" else 0,\n",
    "    axis=1\n",
    ")\n",
    "\n",
    "# calculate insurance economics\n",
    "df_new[\"covered_gbp\"] = (df_new[\"cost_gbp\"] * df_new[\"coverage_rate\"]).round(2)\n",
    "df_new[\"out_of_pocket_gbp\"] = (df_new[\"cost_gbp\"] - df_new[\"covered_gbp\"]).round(2)\n"
   ]
  },
  {
   "attachments": {},
   "cell_type": "markdown",
   "metadata": {},
   "source": [
    "save the new dataframe with added data to a new clean CSV"
   ]
  },
  {
   "cell_type": "code",
   "execution_count": 134,
   "metadata": {},
   "outputs": [
    {
     "name": "stdout",
     "output_type": "stream",
     "text": [
      "Updated CSV with repeated visits created!\n"
     ]
    }
   ],
   "source": [
    "# Save updated CSV\n",
    "df_new.to_csv(\"../data/cleaned_pet_proactive_mock_data.csv\", index=False)\n",
    "\n",
    "print(\"Updated CSV with repeated visits created!\")\n",
    "csv_path = \"../data/cleaned_pet_proactive_mock_data.csv\" \n",
    "df = pd.read_csv(csv_path)"
   ]
  },
  {
   "cell_type": "code",
   "execution_count": 135,
   "metadata": {},
   "outputs": [
    {
     "data": {
      "text/plain": [
       "(1017, 16)"
      ]
     },
     "execution_count": 135,
     "metadata": {},
     "output_type": "execute_result"
    }
   ],
   "source": [
    "df.shape"
   ]
  },
  {
   "cell_type": "code",
   "execution_count": 137,
   "metadata": {},
   "outputs": [
    {
     "data": {
      "text/html": [
       "<div>\n",
       "<style scoped>\n",
       "    .dataframe tbody tr th:only-of-type {\n",
       "        vertical-align: middle;\n",
       "    }\n",
       "\n",
       "    .dataframe tbody tr th {\n",
       "        vertical-align: top;\n",
       "    }\n",
       "\n",
       "    .dataframe thead th {\n",
       "        text-align: right;\n",
       "    }\n",
       "</style>\n",
       "<table border=\"1\" class=\"dataframe\">\n",
       "  <thead>\n",
       "    <tr style=\"text-align: right;\">\n",
       "      <th></th>\n",
       "      <th>insured</th>\n",
       "      <th>insurance_plan</th>\n",
       "      <th>coverage_rate</th>\n",
       "      <th>covered_gbp</th>\n",
       "      <th>out_of_pocket_gbp</th>\n",
       "    </tr>\n",
       "  </thead>\n",
       "  <tbody>\n",
       "    <tr>\n",
       "      <th>0</th>\n",
       "      <td>True</td>\n",
       "      <td>Lifetime</td>\n",
       "      <td>0.830259</td>\n",
       "      <td>230.24</td>\n",
       "      <td>47.07</td>\n",
       "    </tr>\n",
       "    <tr>\n",
       "      <th>1</th>\n",
       "      <td>False</td>\n",
       "      <td>NaN</td>\n",
       "      <td>0.000000</td>\n",
       "      <td>0.00</td>\n",
       "      <td>164.88</td>\n",
       "    </tr>\n",
       "    <tr>\n",
       "      <th>2</th>\n",
       "      <td>True</td>\n",
       "      <td>Lifetime</td>\n",
       "      <td>0.893684</td>\n",
       "      <td>195.04</td>\n",
       "      <td>23.20</td>\n",
       "    </tr>\n",
       "    <tr>\n",
       "      <th>3</th>\n",
       "      <td>True</td>\n",
       "      <td>Accident-only</td>\n",
       "      <td>0.532569</td>\n",
       "      <td>116.23</td>\n",
       "      <td>102.01</td>\n",
       "    </tr>\n",
       "    <tr>\n",
       "      <th>4</th>\n",
       "      <td>True</td>\n",
       "      <td>Accident-only</td>\n",
       "      <td>0.637794</td>\n",
       "      <td>143.32</td>\n",
       "      <td>81.39</td>\n",
       "    </tr>\n",
       "    <tr>\n",
       "      <th>...</th>\n",
       "      <td>...</td>\n",
       "      <td>...</td>\n",
       "      <td>...</td>\n",
       "      <td>...</td>\n",
       "      <td>...</td>\n",
       "    </tr>\n",
       "    <tr>\n",
       "      <th>1012</th>\n",
       "      <td>False</td>\n",
       "      <td>NaN</td>\n",
       "      <td>0.000000</td>\n",
       "      <td>0.00</td>\n",
       "      <td>5.00</td>\n",
       "    </tr>\n",
       "    <tr>\n",
       "      <th>1013</th>\n",
       "      <td>False</td>\n",
       "      <td>NaN</td>\n",
       "      <td>0.000000</td>\n",
       "      <td>0.00</td>\n",
       "      <td>1.17</td>\n",
       "    </tr>\n",
       "    <tr>\n",
       "      <th>1014</th>\n",
       "      <td>False</td>\n",
       "      <td>NaN</td>\n",
       "      <td>0.000000</td>\n",
       "      <td>0.00</td>\n",
       "      <td>5.00</td>\n",
       "    </tr>\n",
       "    <tr>\n",
       "      <th>1015</th>\n",
       "      <td>False</td>\n",
       "      <td>NaN</td>\n",
       "      <td>0.000000</td>\n",
       "      <td>0.00</td>\n",
       "      <td>5.00</td>\n",
       "    </tr>\n",
       "    <tr>\n",
       "      <th>1016</th>\n",
       "      <td>False</td>\n",
       "      <td>NaN</td>\n",
       "      <td>0.000000</td>\n",
       "      <td>0.00</td>\n",
       "      <td>5.00</td>\n",
       "    </tr>\n",
       "  </tbody>\n",
       "</table>\n",
       "<p>1017 rows × 5 columns</p>\n",
       "</div>"
      ],
      "text/plain": [
       "      insured insurance_plan  coverage_rate  covered_gbp  out_of_pocket_gbp\n",
       "0        True       Lifetime       0.830259       230.24              47.07\n",
       "1       False            NaN       0.000000         0.00             164.88\n",
       "2        True       Lifetime       0.893684       195.04              23.20\n",
       "3        True  Accident-only       0.532569       116.23             102.01\n",
       "4        True  Accident-only       0.637794       143.32              81.39\n",
       "...       ...            ...            ...          ...                ...\n",
       "1012    False            NaN       0.000000         0.00               5.00\n",
       "1013    False            NaN       0.000000         0.00               1.17\n",
       "1014    False            NaN       0.000000         0.00               5.00\n",
       "1015    False            NaN       0.000000         0.00               5.00\n",
       "1016    False            NaN       0.000000         0.00               5.00\n",
       "\n",
       "[1017 rows x 5 columns]"
      ]
     },
     "execution_count": 137,
     "metadata": {},
     "output_type": "execute_result"
    }
   ],
   "source": [
    "df.iloc[:, 11:]"
   ]
  },
  {
   "cell_type": "code",
   "execution_count": 138,
   "metadata": {},
   "outputs": [
    {
     "data": {
      "text/html": [
       "<div>\n",
       "<style scoped>\n",
       "    .dataframe tbody tr th:only-of-type {\n",
       "        vertical-align: middle;\n",
       "    }\n",
       "\n",
       "    .dataframe tbody tr th {\n",
       "        vertical-align: top;\n",
       "    }\n",
       "\n",
       "    .dataframe thead th {\n",
       "        text-align: right;\n",
       "    }\n",
       "</style>\n",
       "<table border=\"1\" class=\"dataframe\">\n",
       "  <thead>\n",
       "    <tr style=\"text-align: right;\">\n",
       "      <th></th>\n",
       "      <th>coverage_rate</th>\n",
       "      <th>covered_gbp</th>\n",
       "      <th>out_of_pocket_gbp</th>\n",
       "      <th>cost_gbp</th>\n",
       "    </tr>\n",
       "  </thead>\n",
       "  <tbody>\n",
       "    <tr>\n",
       "      <th>0</th>\n",
       "      <td>0.830259</td>\n",
       "      <td>230.24</td>\n",
       "      <td>47.07</td>\n",
       "      <td>277.310000</td>\n",
       "    </tr>\n",
       "    <tr>\n",
       "      <th>1</th>\n",
       "      <td>0.000000</td>\n",
       "      <td>0.00</td>\n",
       "      <td>164.88</td>\n",
       "      <td>164.880000</td>\n",
       "    </tr>\n",
       "    <tr>\n",
       "      <th>2</th>\n",
       "      <td>0.893684</td>\n",
       "      <td>195.04</td>\n",
       "      <td>23.20</td>\n",
       "      <td>218.244766</td>\n",
       "    </tr>\n",
       "    <tr>\n",
       "      <th>3</th>\n",
       "      <td>0.532569</td>\n",
       "      <td>116.23</td>\n",
       "      <td>102.01</td>\n",
       "      <td>218.244766</td>\n",
       "    </tr>\n",
       "    <tr>\n",
       "      <th>4</th>\n",
       "      <td>0.637794</td>\n",
       "      <td>143.32</td>\n",
       "      <td>81.39</td>\n",
       "      <td>224.709281</td>\n",
       "    </tr>\n",
       "    <tr>\n",
       "      <th>...</th>\n",
       "      <td>...</td>\n",
       "      <td>...</td>\n",
       "      <td>...</td>\n",
       "      <td>...</td>\n",
       "    </tr>\n",
       "    <tr>\n",
       "      <th>1012</th>\n",
       "      <td>0.000000</td>\n",
       "      <td>0.00</td>\n",
       "      <td>5.00</td>\n",
       "      <td>5.000000</td>\n",
       "    </tr>\n",
       "    <tr>\n",
       "      <th>1013</th>\n",
       "      <td>0.000000</td>\n",
       "      <td>0.00</td>\n",
       "      <td>1.17</td>\n",
       "      <td>1.170000</td>\n",
       "    </tr>\n",
       "    <tr>\n",
       "      <th>1014</th>\n",
       "      <td>0.000000</td>\n",
       "      <td>0.00</td>\n",
       "      <td>5.00</td>\n",
       "      <td>5.000000</td>\n",
       "    </tr>\n",
       "    <tr>\n",
       "      <th>1015</th>\n",
       "      <td>0.000000</td>\n",
       "      <td>0.00</td>\n",
       "      <td>5.00</td>\n",
       "      <td>5.000000</td>\n",
       "    </tr>\n",
       "    <tr>\n",
       "      <th>1016</th>\n",
       "      <td>0.000000</td>\n",
       "      <td>0.00</td>\n",
       "      <td>5.00</td>\n",
       "      <td>5.000000</td>\n",
       "    </tr>\n",
       "  </tbody>\n",
       "</table>\n",
       "<p>1017 rows × 4 columns</p>\n",
       "</div>"
      ],
      "text/plain": [
       "      coverage_rate  covered_gbp  out_of_pocket_gbp    cost_gbp\n",
       "0          0.830259       230.24              47.07  277.310000\n",
       "1          0.000000         0.00             164.88  164.880000\n",
       "2          0.893684       195.04              23.20  218.244766\n",
       "3          0.532569       116.23             102.01  218.244766\n",
       "4          0.637794       143.32              81.39  224.709281\n",
       "...             ...          ...                ...         ...\n",
       "1012       0.000000         0.00               5.00    5.000000\n",
       "1013       0.000000         0.00               1.17    1.170000\n",
       "1014       0.000000         0.00               5.00    5.000000\n",
       "1015       0.000000         0.00               5.00    5.000000\n",
       "1016       0.000000         0.00               5.00    5.000000\n",
       "\n",
       "[1017 rows x 4 columns]"
      ]
     },
     "execution_count": 138,
     "metadata": {},
     "output_type": "execute_result"
    }
   ],
   "source": [
    "df[['coverage_rate', 'covered_gbp', 'out_of_pocket_gbp', 'cost_gbp']]"
   ]
  },
  {
   "attachments": {},
   "cell_type": "markdown",
   "metadata": {},
   "source": [
    "### Generate table stats for to get the first insights about data. before conducting full analysis:"
   ]
  },
  {
   "cell_type": "code",
   "execution_count": 139,
   "metadata": {},
   "outputs": [
    {
     "name": "stdout",
     "output_type": "stream",
     "text": [
      "<class 'pandas.core.frame.DataFrame'>\n",
      "RangeIndex: 1017 entries, 0 to 1016\n",
      "Data columns (total 16 columns):\n",
      " #   Column             Non-Null Count  Dtype  \n",
      "---  ------             --------------  -----  \n",
      " 0   pet_id             1017 non-null   object \n",
      " 1   species            1017 non-null   object \n",
      " 2   age                1017 non-null   float64\n",
      " 3   weight_kg          1017 non-null   float64\n",
      " 4   condition          1017 non-null   object \n",
      " 5   treatment          1017 non-null   object \n",
      " 6   visit_date         1017 non-null   object \n",
      " 7   cost_gbp           1017 non-null   float64\n",
      " 8   year               1017 non-null   int64  \n",
      " 9   month              1017 non-null   int64  \n",
      " 10  age_group          984 non-null    object \n",
      " 11  insured            1017 non-null   bool   \n",
      " 12  insurance_plan     330 non-null    object \n",
      " 13  coverage_rate      1017 non-null   float64\n",
      " 14  covered_gbp        1017 non-null   float64\n",
      " 15  out_of_pocket_gbp  1017 non-null   float64\n",
      "dtypes: bool(1), float64(6), int64(2), object(7)\n",
      "memory usage: 120.3+ KB\n"
     ]
    }
   ],
   "source": [
    "df.info()"
   ]
  },
  {
   "cell_type": "code",
   "execution_count": 140,
   "metadata": {},
   "outputs": [
    {
     "data": {
      "text/html": [
       "<div>\n",
       "<style scoped>\n",
       "    .dataframe tbody tr th:only-of-type {\n",
       "        vertical-align: middle;\n",
       "    }\n",
       "\n",
       "    .dataframe tbody tr th {\n",
       "        vertical-align: top;\n",
       "    }\n",
       "\n",
       "    .dataframe thead th {\n",
       "        text-align: right;\n",
       "    }\n",
       "</style>\n",
       "<table border=\"1\" class=\"dataframe\">\n",
       "  <thead>\n",
       "    <tr style=\"text-align: right;\">\n",
       "      <th></th>\n",
       "      <th>age</th>\n",
       "      <th>weight_kg</th>\n",
       "      <th>cost_gbp</th>\n",
       "      <th>year</th>\n",
       "      <th>month</th>\n",
       "      <th>coverage_rate</th>\n",
       "      <th>covered_gbp</th>\n",
       "      <th>out_of_pocket_gbp</th>\n",
       "    </tr>\n",
       "  </thead>\n",
       "  <tbody>\n",
       "    <tr>\n",
       "      <th>count</th>\n",
       "      <td>1017.000000</td>\n",
       "      <td>1017.000000</td>\n",
       "      <td>1017.000000</td>\n",
       "      <td>1017.0</td>\n",
       "      <td>1017.000000</td>\n",
       "      <td>1017.000000</td>\n",
       "      <td>1017.000000</td>\n",
       "      <td>1017.000000</td>\n",
       "    </tr>\n",
       "    <tr>\n",
       "      <th>mean</th>\n",
       "      <td>9.307847</td>\n",
       "      <td>9.889311</td>\n",
       "      <td>208.179833</td>\n",
       "      <td>2023.0</td>\n",
       "      <td>6.706981</td>\n",
       "      <td>0.238405</td>\n",
       "      <td>48.317925</td>\n",
       "      <td>159.861681</td>\n",
       "    </tr>\n",
       "    <tr>\n",
       "      <th>std</th>\n",
       "      <td>5.342660</td>\n",
       "      <td>7.275665</td>\n",
       "      <td>129.384393</td>\n",
       "      <td>0.0</td>\n",
       "      <td>3.385745</td>\n",
       "      <td>0.348567</td>\n",
       "      <td>87.389286</td>\n",
       "      <td>132.926079</td>\n",
       "    </tr>\n",
       "    <tr>\n",
       "      <th>min</th>\n",
       "      <td>0.000000</td>\n",
       "      <td>0.500000</td>\n",
       "      <td>0.140000</td>\n",
       "      <td>2023.0</td>\n",
       "      <td>1.000000</td>\n",
       "      <td>0.000000</td>\n",
       "      <td>0.000000</td>\n",
       "      <td>0.140000</td>\n",
       "    </tr>\n",
       "    <tr>\n",
       "      <th>25%</th>\n",
       "      <td>5.000000</td>\n",
       "      <td>4.300000</td>\n",
       "      <td>106.170000</td>\n",
       "      <td>2023.0</td>\n",
       "      <td>4.000000</td>\n",
       "      <td>0.000000</td>\n",
       "      <td>0.000000</td>\n",
       "      <td>45.700000</td>\n",
       "    </tr>\n",
       "    <tr>\n",
       "      <th>50%</th>\n",
       "      <td>9.486667</td>\n",
       "      <td>8.757220</td>\n",
       "      <td>209.668084</td>\n",
       "      <td>2023.0</td>\n",
       "      <td>7.000000</td>\n",
       "      <td>0.000000</td>\n",
       "      <td>0.000000</td>\n",
       "      <td>124.170000</td>\n",
       "    </tr>\n",
       "    <tr>\n",
       "      <th>75%</th>\n",
       "      <td>13.000000</td>\n",
       "      <td>13.800000</td>\n",
       "      <td>293.178439</td>\n",
       "      <td>2023.0</td>\n",
       "      <td>10.000000</td>\n",
       "      <td>0.646257</td>\n",
       "      <td>64.760000</td>\n",
       "      <td>250.420000</td>\n",
       "    </tr>\n",
       "    <tr>\n",
       "      <th>max</th>\n",
       "      <td>19.000000</td>\n",
       "      <td>34.900000</td>\n",
       "      <td>672.906176</td>\n",
       "      <td>2023.0</td>\n",
       "      <td>12.000000</td>\n",
       "      <td>0.899248</td>\n",
       "      <td>477.250000</td>\n",
       "      <td>672.910000</td>\n",
       "    </tr>\n",
       "  </tbody>\n",
       "</table>\n",
       "</div>"
      ],
      "text/plain": [
       "               age    weight_kg     cost_gbp    year        month  \\\n",
       "count  1017.000000  1017.000000  1017.000000  1017.0  1017.000000   \n",
       "mean      9.307847     9.889311   208.179833  2023.0     6.706981   \n",
       "std       5.342660     7.275665   129.384393     0.0     3.385745   \n",
       "min       0.000000     0.500000     0.140000  2023.0     1.000000   \n",
       "25%       5.000000     4.300000   106.170000  2023.0     4.000000   \n",
       "50%       9.486667     8.757220   209.668084  2023.0     7.000000   \n",
       "75%      13.000000    13.800000   293.178439  2023.0    10.000000   \n",
       "max      19.000000    34.900000   672.906176  2023.0    12.000000   \n",
       "\n",
       "       coverage_rate  covered_gbp  out_of_pocket_gbp  \n",
       "count    1017.000000  1017.000000        1017.000000  \n",
       "mean        0.238405    48.317925         159.861681  \n",
       "std         0.348567    87.389286         132.926079  \n",
       "min         0.000000     0.000000           0.140000  \n",
       "25%         0.000000     0.000000          45.700000  \n",
       "50%         0.000000     0.000000         124.170000  \n",
       "75%         0.646257    64.760000         250.420000  \n",
       "max         0.899248   477.250000         672.910000  "
      ]
     },
     "execution_count": 140,
     "metadata": {},
     "output_type": "execute_result"
    }
   ],
   "source": [
    "df.describe()"
   ]
  },
  {
   "cell_type": "code",
   "execution_count": 141,
   "metadata": {},
   "outputs": [
    {
     "name": "stdout",
     "output_type": "stream",
     "text": [
      "\n",
      "=== Category Counts ===\n",
      "\n",
      "pet_id value counts:\n",
      "pet_id\n",
      "P0577    8\n",
      "P0484    8\n",
      "P0463    8\n",
      "P0116    8\n",
      "P0668    8\n",
      "        ..\n",
      "P0248    1\n",
      "P0249    1\n",
      "P0250    1\n",
      "P0251    1\n",
      "P0351    1\n",
      "Name: count, Length: 700, dtype: int64\n",
      "\n",
      "species value counts:\n",
      "species\n",
      "Dog       365\n",
      "Cat       307\n",
      "Bird      174\n",
      "Rabbit    171\n",
      "Name: count, dtype: int64\n",
      "\n",
      "condition value counts:\n",
      "condition\n",
      "Unknown            180\n",
      "Ear infection      117\n",
      "Gastroenteritis     93\n",
      "Dental disease      91\n",
      "Arthritis           87\n",
      "Obesity             81\n",
      "Diabetes            78\n",
      "Skin infection      75\n",
      "Allergy             74\n",
      "Tumor               71\n",
      "Hip dysplasia       70\n",
      "Name: count, dtype: int64\n",
      "\n",
      "treatment value counts:\n",
      "treatment\n",
      "Dental cleaning      169\n",
      "Physiotherapy        154\n",
      "Vaccination          132\n",
      "Diet consultation    110\n",
      "Surgery              101\n",
      "Unknown               99\n",
      "Therapy               93\n",
      "Check-up              91\n",
      "Medication            68\n",
      "Name: count, dtype: int64\n",
      "\n",
      "visit_date value counts:\n",
      "visit_date\n",
      "2023-09-16    10\n",
      "2023-04-14     8\n",
      "2023-04-12     8\n",
      "2023-08-04     8\n",
      "2023-07-20     7\n",
      "              ..\n",
      "2023-07-29     1\n",
      "2023-05-06     1\n",
      "2023-06-25     1\n",
      "2023-02-02     1\n",
      "2023-01-22     1\n",
      "Name: count, Length: 335, dtype: int64\n",
      "\n",
      "age_group value counts:\n",
      "age_group\n",
      "6-10     357\n",
      "11-15    195\n",
      "16-20    188\n",
      "3-5      126\n",
      "0-2      118\n",
      "Name: count, dtype: int64\n",
      "\n",
      "insurance_plan value counts:\n",
      "insurance_plan\n",
      "Time-limited       103\n",
      "Maximum benefit     98\n",
      "Lifetime            68\n",
      "Accident-only       61\n",
      "Name: count, dtype: int64\n"
     ]
    }
   ],
   "source": [
    "\n",
    "# Count of categories (for categorical columns)\n",
    "print(\"\\n=== Category Counts ===\")\n",
    "for col in df.select_dtypes(include=\"object\").columns:\n",
    "    print(f\"\\n{col} value counts:\")\n",
    "    print(df[col].value_counts())"
   ]
  },
  {
   "cell_type": "code",
   "execution_count": 142,
   "metadata": {},
   "outputs": [
    {
     "name": "stdout",
     "output_type": "stream",
     "text": [
      "\n",
      "=== Missing Values ===\n",
      "pet_id                 0\n",
      "species                0\n",
      "age                    0\n",
      "weight_kg              0\n",
      "condition              0\n",
      "treatment              0\n",
      "visit_date             0\n",
      "cost_gbp               0\n",
      "year                   0\n",
      "month                  0\n",
      "age_group             33\n",
      "insured                0\n",
      "insurance_plan       687\n",
      "coverage_rate          0\n",
      "covered_gbp            0\n",
      "out_of_pocket_gbp      0\n",
      "dtype: int64\n"
     ]
    }
   ],
   "source": [
    "# Missing values check\n",
    "print(\"\\n=== Missing Values ===\")\n",
    "print(df.isnull().sum())"
   ]
  },
  {
   "cell_type": "code",
   "execution_count": 146,
   "metadata": {},
   "outputs": [
    {
     "name": "stdout",
     "output_type": "stream",
     "text": [
      "['pet_id', 'species', 'age', 'weight_kg', 'condition', 'treatment', 'visit_date', 'cost_gbp', 'year', 'month', 'age_group', 'insured', 'insurance_plan', 'coverage_rate', 'covered_gbp', 'out_of_pocket_gbp']\n"
     ]
    }
   ],
   "source": [
    "print(df.columns.tolist())"
   ]
  },
  {
   "cell_type": "code",
   "execution_count": 144,
   "metadata": {},
   "outputs": [
    {
     "name": "stdout",
     "output_type": "stream",
     "text": [
      "\n",
      "=== Avg cost per species ===\n",
      "               mean      median   min         max  count\n",
      "species                                                 \n",
      "Bird     220.186708  218.244766  7.55  589.660000    174\n",
      "Cat      198.376905  195.495986  0.32  672.906176    307\n",
      "Dog      210.007012  210.135931  0.14  584.610000    365\n",
      "Rabbit   209.661599  211.320000  2.10  580.800000    171\n",
      "\n",
      "=== Avg cost per treatment ===\n",
      "                         mean      median    min         max  count\n",
      "treatment                                                          \n",
      "Check-up           262.778829  267.300000   2.41  589.660000     91\n",
      "Dental cleaning    177.042652  166.620000   1.09  541.000000    169\n",
      "Diet consultation  204.467497  176.270000   0.49  672.906176    110\n",
      "Medication         238.658578  218.244766  25.18  507.075148     68\n",
      "Physiotherapy      192.509894  210.520143   7.08  442.820000    154\n",
      "Surgery            185.690681  179.070000   0.14  580.800000    101\n",
      "Therapy            196.386843  216.680000   0.32  537.570000     93\n",
      "Unknown            219.286417  214.810000   1.17  584.610000     99\n",
      "Vaccination        233.265047  227.050419   1.97  580.288326    132\n"
     ]
    }
   ],
   "source": [
    "# groupby summaries\n",
    "if \"species\" in df.columns and \"cost_gbp\" in df.columns:\n",
    "    print(\"\\n=== Avg cost per species ===\")\n",
    "    print(df.groupby(\"species\")[\"cost_gbp\"].agg([\"mean\", \"median\", \"min\", \"max\", \"count\"]))\n",
    "\n",
    "if \"treatment\" in df.columns and \"cost_gbp\" in df.columns:\n",
    "    print(\"\\n=== Avg cost per treatment ===\")\n",
    "    print(df.groupby(\"treatment\")[\"cost_gbp\"].agg([\"mean\", \"median\", \"min\", \"max\", \"count\"]))\n"
   ]
  },
  {
   "attachments": {},
   "cell_type": "markdown",
   "metadata": {},
   "source": [
    "## step 2\n",
    "\n",
    "Data analysis & visualisation\n",
    "\n",
    "Focus on insights they’d care about:\n",
    "\n",
    "Most common conditions by species\n",
    "\n",
    "Average treatment costs by condition and age group\n",
    "\n",
    "Cost trends over time\n",
    "\n",
    "Distribution of weights/ages\n",
    "\n",
    "Use matplotlib/seaborn.\n",
    "\n",
    "Optional: build small dashboards in Streamlit or Flask so someone can filter by species, condition, or age and see charts update dynamically.\n",
    "\n",
    "This shows you know their analytics workflow: Python data model + visualisation."
   ]
  },
  {
   "attachments": {},
   "cell_type": "markdown",
   "metadata": {},
   "source": [
    "## Step 3\n",
    "Optional AI magic (to impress)\n",
    "\n",
    "Quick win: LLM-powered query helper\n",
    "\n",
    "Example: Ask “What is the average diabetes cost for cats under 5?” → translate to pandas query → show output.\n",
    "\n",
    "Lightweight, no need for heavy training, and screams “tech curiosity” without overcomplicating.\n",
    "\n",
    "Computer vision is optional but would be flashy; if you’re short on time, skip it for now."
   ]
  },
  {
   "attachments": {},
   "cell_type": "markdown",
   "metadata": {},
   "source": [
    "## Step 4\n",
    "API exposure (mini production flair)\n",
    "\n",
    "Wrap a simple Flask API around your cleaned data:\n",
    "\n",
    "Endpoint /pet_summary?species=Dog&condition=Arthritis → returns JSON with summary stats.\n",
    "\n",
    "Optional for portfolio, but if done, it demonstrates familiarity with their API workflow."
   ]
  },
  {
   "cell_type": "markdown",
   "metadata": {},
   "source": []
  },
  {
   "attachments": {},
   "cell_type": "markdown",
   "metadata": {},
   "source": [
    "## Step 5\n",
    "\n",
    "Documentation / presentation\n",
    "\n",
    "GitHub repo + README:\n",
    "\n",
    "Explain the dataset and ETL steps\n",
    "\n",
    "Show visualisations as screenshots\n",
    "\n",
    "Optional: screenshots or a deployed Streamlit/Flask app link\n",
    "\n",
    "Title: Pet Health Analytics Demo\n",
    "\n",
    "Include 1–2 sentences on why this mirrors Pet Proactive’s real workflow."
   ]
  },
  {
   "cell_type": "code",
   "execution_count": null,
   "metadata": {},
   "outputs": [],
   "source": []
  },
  {
   "cell_type": "code",
   "execution_count": null,
   "metadata": {},
   "outputs": [],
   "source": []
  }
 ],
 "metadata": {
  "kernelspec": {
   "display_name": "petsight_venv",
   "language": "python",
   "name": "python3"
  },
  "language_info": {
   "codemirror_mode": {
    "name": "ipython",
    "version": 3
   },
   "file_extension": ".py",
   "mimetype": "text/x-python",
   "name": "python",
   "nbconvert_exporter": "python",
   "pygments_lexer": "ipython3",
   "version": "3.10.9"
  },
  "orig_nbformat": 4
 },
 "nbformat": 4,
 "nbformat_minor": 2
}
